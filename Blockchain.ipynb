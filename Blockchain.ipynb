{
 "cells": [
  {
   "cell_type": "code",
   "execution_count": null,
   "metadata": {},
   "outputs": [],
   "source": [
    "import numpy as np\n",
    "import matplotlib.pyplot as plt\n",
    "import statistics\n"
   ]
  },
  {
   "cell_type": "code",
   "execution_count": null,
   "metadata": {},
   "outputs": [],
   "source": [
    "def plot(data):\n",
    "    plt.plot(data)\n",
    "    plt.plot(np.full(len(data), statistics.mean(data)), label='Mean')\n",
    "    plt.plot(np.full(len(data), statistics.median(data)), label='Median')\n",
    "    plt.legend(loc='upper left')\n",
    "    plt.ylabel('Block delay (ms)')\n",
    "    plt.xlabel('Block #')\n",
    "    plt.show()\n",
    "\n",
    "def plotBar(data, labels, xlabel, ylabel):\n",
    "    fig = plt.figure()\n",
    "    ax = fig.add_axes([0,0,1,1])\n",
    "    ax.bar(labels,data)\n",
    "    ax.set_xlabel(xlabel)\n",
    "    ax.set_ylabel(ylabel)\n",
    "    plt.show()\n",
    "    \n",
    "def meanFromFile(file):\n",
    "    data = np.loadtxt(file, comments=\"#\", delimiter=\",\", unpack=False)\n",
    "    return statistics.mean(data)\n",
    "\n",
    "def medianFromFile(file):\n",
    "    data = np.loadtxt(file, comments=\"#\", delimiter=\",\", unpack=False)\n",
    "    return statistics.median(data)\n",
    "\n",
    "def stats(data):\n",
    "    # Total\n",
    "    print(\"All blocks\")\n",
    "    print(\"\\tMean: \", statistics.mean(data))\n",
    "    print(\"\\tMedian: \", statistics.median(data))\n",
    "    print(\"\\tMax: \", max(data))\n",
    "    \n",
    "    # First 1000\n",
    "    print(\"\\nFirst 1000\")\n",
    "    print(\"\\tMean: \", statistics.mean(data[0:1000]))\n",
    "    print(\"\\tMedian: \", statistics.median(data[0:1000]))\n",
    "    \n",
    "    # Second 1000\n",
    "    print(\"\\nSecond 1000\")\n",
    "    print(\"\\tMean: \", statistics.mean(data[1000:]))\n",
    "    print(\"\\tMedian: \", statistics.median(data[1000:]))"
   ]
  },
  {
   "cell_type": "code",
   "execution_count": null,
   "metadata": {},
   "outputs": [],
   "source": [
    "# Single\n",
    "data16Single = np.loadtxt(\"blockchain/data16.csv\", comments=\"#\", delimiter=\",\", unpack=False)\n",
    "data20Single = np.loadtxt(\"blockchain/data20.csv\", comments=\"#\", delimiter=\",\", unpack=False)\n",
    "\n",
    "# Multi\n",
    "data16Multi = np.loadtxt(\"mt/data16.csv\", comments=\"#\", delimiter=\",\", unpack=False)\n",
    "data20Multi = np.loadtxt(\"mt/data20.csv\", comments=\"#\", delimiter=\",\", unpack=False)"
   ]
  },
  {
   "cell_type": "code",
   "execution_count": null,
   "metadata": {},
   "outputs": [],
   "source": [
    "# Test 1\n",
    "plot(data16Single[0])\n",
    "stats(data16Single[0])"
   ]
  },
  {
   "cell_type": "code",
   "execution_count": null,
   "metadata": {},
   "outputs": [],
   "source": [
    "# Test 1\n",
    "plot(data16Multi[0])\n",
    "stats(data16Multi[0])"
   ]
  },
  {
   "cell_type": "code",
   "execution_count": null,
   "metadata": {},
   "outputs": [],
   "source": [
    "# Test 1\n",
    "plot(data20Single[0])\n",
    "stats(data20Single[0])"
   ]
  },
  {
   "cell_type": "code",
   "execution_count": null,
   "metadata": {},
   "outputs": [],
   "source": [
    "# Test 1\n",
    "plot(data20Multi[0])\n",
    "stats(data20Multi[0])"
   ]
  },
  {
   "cell_type": "code",
   "execution_count": null,
   "metadata": {},
   "outputs": [],
   "source": [
    "KarlL = meanFromFile(\"blockchain/bcKarlLaptop16.csv\")\n",
    "KarlD = meanFromFile(\"blockchain/bcKarlDesktop16.csv\")\n",
    "EirikL = meanFromFile(\"blockchain/EirikLaptop.csv\")\n",
    "EirikD = meanFromFile(\"blockchain/EirikDesktop.csv\")\n",
    "data = [KarlD, EirikD, EirikL, KarlL]\n",
    "labels = ['A', 'B', 'C', 'D']\n",
    "xlabel = 'Computer'\n",
    "ylabel = 'Mean block delay'\n",
    "plotBar(data, labels, xlabel, ylabel)"
   ]
  },
  {
   "cell_type": "code",
   "execution_count": null,
   "metadata": {},
   "outputs": [],
   "source": [
    "data16 = meanFromFile(\"blockchain/bcKarlDesktop16.csv\")\n",
    "data17 = meanFromFile(\"blockchain/bcKarlDesktop17.csv\")\n",
    "data18 = meanFromFile(\"blockchain/bcKarlDesktop18.csv\")\n",
    "data19 = meanFromFile(\"blockchain/bcKarlDesktop19.csv\")\n",
    "data20 = meanFromFile(\"blockchain/bcKarlDesktop20.csv\")\n",
    "data = [data16, data17, data18, data19, data20]\n",
    "labels = ['16', '17', '18', '19', '20']\n",
    "xlabel = 'Target bits'\n",
    "ylabel = 'Mean block delay'\n",
    "plotBar(data, labels, xlabel, ylabel)"
   ]
  },
  {
   "cell_type": "code",
   "execution_count": null,
   "metadata": {},
   "outputs": [],
   "source": [
    "stats(np.loadtxt(\"blockchain/bcKarlDesktop20.csv\", comments=\"#\", delimiter=\",\", unpack=False))"
   ]
  },
  {
   "cell_type": "code",
   "execution_count": null,
   "metadata": {},
   "outputs": [],
   "source": [
    "plt.plot(np.loadtxt(\"blockchain/bcKarlDesktop20.csv\", comments=\"#\", delimiter=\",\", unpack=False))\n",
    "plt.plot(np.loadtxt(\"blockchain/bcKarlDesktop19.csv\", comments=\"#\", delimiter=\",\", unpack=False))\n",
    "plt.plot(np.loadtxt(\"blockchain/bcKarlDesktop18.csv\", comments=\"#\", delimiter=\",\", unpack=False))\n",
    "plt.plot(np.loadtxt(\"blockchain/bcKarlDesktop17.csv\", comments=\"#\", delimiter=\",\", unpack=False))\n",
    "plt.plot(np.loadtxt(\"blockchain/bcKarlDesktop16.csv\", comments=\"#\", delimiter=\",\", unpack=False))\n",
    "plt.ylabel('Block delay (ms)')\n",
    "plt.xlabel('Block #')\n",
    "plt.legend(['20','19','18','17','16'],loc='upper left')\n",
    "plt.show()"
   ]
  },
  {
   "cell_type": "code",
   "execution_count": null,
   "metadata": {},
   "outputs": [],
   "source": [
    "plt.plot(np.loadtxt(\"mt/mtKarl20_8.csv\", comments=\"#\", delimiter=\",\", unpack=False))\n",
    "plt.plot(np.loadtxt(\"mt/mtEirik20_8.csv\", comments=\"#\", delimiter=\",\", unpack=False))\n",
    "plt.ylabel('Block delay (ms)')\n",
    "plt.xlabel('Block #')\n",
    "plt.legend(['ComputerA', 'ComputerB'],loc='upper left')\n",
    "plt.show()"
   ]
  },
  {
   "cell_type": "code",
   "execution_count": null,
   "metadata": {},
   "outputs": [],
   "source": [
    "meanFromFile(\"mt/mtKarl20_8.csv\")"
   ]
  },
  {
   "cell_type": "code",
   "execution_count": null,
   "metadata": {},
   "outputs": [],
   "source": [
    "meanFromFile(\"mt/mtEirik20_8.csv\")"
   ]
  },
  {
   "cell_type": "code",
   "execution_count": null,
   "metadata": {},
   "outputs": [],
   "source": [
    "plt.plot(np.loadtxt(\"mt/mtKarl20_16.csv\", comments=\"#\", delimiter=\",\", unpack=False))\n",
    "plt.plot(np.loadtxt(\"mt/mtEirik20_16.csv\", comments=\"#\", delimiter=\",\", unpack=False))\n",
    "plt.ylabel('Block delay (ms)')\n",
    "plt.xlabel('Block #')\n",
    "plt.legend(['ComputerA', 'ComputerB'],loc='upper left')\n",
    "plt.show()"
   ]
  },
  {
   "cell_type": "code",
   "execution_count": null,
   "metadata": {},
   "outputs": [],
   "source": [
    "meanFromFile(\"mt/mtKarl20_16.csv\")"
   ]
  },
  {
   "cell_type": "code",
   "execution_count": null,
   "metadata": {},
   "outputs": [],
   "source": [
    "meanFromFile(\"mt/mtEirik20_16.csv\")"
   ]
  },
  {
   "cell_type": "code",
   "execution_count": null,
   "metadata": {},
   "outputs": [],
   "source": [
    "plt.plot(np.loadtxt(\"mt/mtEirik20_8.csv\", comments=\"#\", delimiter=\",\", unpack=False))\n",
    "plt.plot(np.loadtxt(\"mt/mtEirik20_16.csv\", comments=\"#\", delimiter=\",\", unpack=False))\n",
    "plt.ylabel('Block delay (ms)')\n",
    "plt.xlabel('Block #')\n",
    "plt.show()"
   ]
  },
  {
   "cell_type": "code",
   "execution_count": null,
   "metadata": {},
   "outputs": [],
   "source": [
    "data16 = meanFromFile(\"blockchain/bcKarlDesktop20.csv\")\n",
    "data17 = meanFromFile(\"mt/mtKarl20_2.csv\")\n",
    "data18 = meanFromFile(\"mt/mtKarl20_4.csv\")\n",
    "data19 = meanFromFile(\"mt/mtKarl20_8.csv\")\n",
    "data20 = meanFromFile(\"mt/mtKarl20_16.csv\")\n",
    "data = [data16, data17, data18, data19, data20]\n",
    "labels = ['1', '2', '4', '8', '16']\n",
    "xlabel = 'Number of Go-routines'\n",
    "ylabel = 'Mean block delay'\n",
    "plotBar(data, labels, xlabel, ylabel)"
   ]
  },
  {
   "cell_type": "code",
   "execution_count": null,
   "metadata": {},
   "outputs": [],
   "source": [
    "meanFromFile(\"master/data20.csv\")"
   ]
  }
 ],
 "metadata": {
  "kernelspec": {
   "display_name": "Python 3",
   "language": "python",
   "name": "python3"
  },
  "language_info": {
   "codemirror_mode": {
    "name": "ipython",
    "version": 3
   },
   "file_extension": ".py",
   "mimetype": "text/x-python",
   "name": "python",
   "nbconvert_exporter": "python",
   "pygments_lexer": "ipython3",
   "version": "3.8.3"
  }
 },
 "nbformat": 4,
 "nbformat_minor": 4
}
