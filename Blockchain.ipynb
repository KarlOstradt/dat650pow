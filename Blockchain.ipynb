{
 "cells": [
  {
   "cell_type": "code",
   "execution_count": 1,
   "metadata": {},
   "outputs": [],
   "source": [
    "import numpy as np\n",
    "import matplotlib.pyplot as plt\n",
    "import statistics"
   ]
  },
  {
   "cell_type": "code",
   "execution_count": 2,
   "metadata": {},
   "outputs": [],
   "source": [
    "def plot(data):\n",
    "    plt.plot(data)\n",
    "    plt.ylabel('Block delay (ms)')\n",
    "    plt.xlabel('Block #')\n",
    "    plt.show()\n",
    "\n",
    "def stats(data):\n",
    "    # Total\n",
    "    print(\"All blocks\")\n",
    "    print(\"\\tMean: \", statistics.mean(data))\n",
    "    print(\"\\tMedian: \", statistics.median(data))\n",
    "    print(\"\\tMax: \", max(data))\n",
    "    \n",
    "    # First 1000\n",
    "    print(\"\\nFirst 1000\")\n",
    "    print(\"\\tMean: \", statistics.mean(data[0:1000]))\n",
    "    print(\"\\tMedian: \", statistics.median(data[0:1000]))\n",
    "    \n",
    "    # Second 1000\n",
    "    print(\"\\nSecond 1000\")\n",
    "    print(\"\\tMean: \", statistics.mean(data[1000:]))\n",
    "    print(\"\\tMedian: \", statistics.median(data[1000:]))"
   ]
  },
  {
   "cell_type": "code",
   "execution_count": 3,
   "metadata": {},
   "outputs": [],
   "source": [
    "# Single\n",
    "data16Single = np.loadtxt(\"blockchain/data16.csv\", comments=\"#\", delimiter=\",\", unpack=False)\n",
    "data20Single = np.loadtxt(\"blockchain/data20.csv\", comments=\"#\", delimiter=\",\", unpack=False)\n",
    "\n",
    "# Multi\n",
    "data16Multi = np.loadtxt(\"mt/data16.csv\", comments=\"#\", delimiter=\",\", unpack=False)\n",
    "data20Multi = np.loadtxt(\"mt/data20.csv\", comments=\"#\", delimiter=\",\", unpack=False)"
   ]
  },
  {
   "cell_type": "code",
   "execution_count": 4,
   "metadata": {},
   "outputs": [
    {
     "data": {
      "image/png": "[encoded data removed]",
      "text/plain": [
       "<Figure size 432x288 with 1 Axes>"
      ]
     },
     "metadata": {
      "needs_background": "light"
     },
     "output_type": "display_data"
    },
    {
     "name": "stdout",
     "output_type": "stream",
     "text": [
      "All blocks\n",
      "\tMean:  37.5535\n",
      "\tMedian:  27.0\n",
      "\tMax:  318.0\n",
      "\n",
      "First 1000\n",
      "\tMean:  36.369\n",
      "\tMedian:  27.0\n",
      "\n",
      "Second 1000\n",
      "\tMean:  38.738\n",
      "\tMedian:  27.0\n"
     ]
    }
   ],
   "source": [
    "# Test 1\n",
    "plot(data16Single[0])\n",
    "stats(data16Single[0])"
   ]
  },
  {
   "cell_type": "code",
   "execution_count": null,
   "metadata": {},
   "outputs": [],
   "source": [
    "# Test 1\n",
    "plot(data16Multi[0])\n",
    "stats(data16Multi[0])"
   ]
  },
  {
   "cell_type": "code",
   "execution_count": null,
   "metadata": {},
   "outputs": [],
   "source": [
    "# Test 1\n",
    "plot(data20Single[0])\n",
    "stats(data20Single[0])"
   ]
  },
  {
   "cell_type": "code",
   "execution_count": null,
   "metadata": {},
   "outputs": [],
   "source": [
    "# Test 1\n",
    "plot(data20Multi[0])\n",
    "stats(data20Multi[0])"
   ]
  }
 ],
 "metadata": {
  "kernelspec": {
   "display_name": "Python 3",
   "language": "python",
   "name": "python3"
  },
  "language_info": {
   "codemirror_mode": {
    "name": "ipython",
    "version": 3
   },
   "file_extension": ".py",
   "mimetype": "text/x-python",
   "name": "python",
   "nbconvert_exporter": "python",
   "pygments_lexer": "ipython3",
   "version": "3.8.3"
  }
 },
 "nbformat": 4,
 "nbformat_minor": 4
}
